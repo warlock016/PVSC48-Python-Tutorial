{
 "cells": [
  {
   "attachments": {},
   "cell_type": "markdown",
   "metadata": {},
   "source": [
    "## PVSim (Photovoltaic Simulator)\n",
    "\n",
    "The goal of this Jupyter notebook is to:\n",
    "- estimate daily, weekly, monthly, seasonal and yearly load profiles (kW) and energy yields (kWh).\n",
    "- account for different electric power demand case scenarios.\n",
    "- implement an energy storage system within the local grid."
   ]
  }
 ],
 "metadata": {
  "kernelspec": {
   "display_name": "Python 3",
   "language": "python",
   "name": "python3"
  },
  "language_info": {
   "name": "python",
   "version": "3.9.6"
  },
  "orig_nbformat": 4
 },
 "nbformat": 4,
 "nbformat_minor": 2
}
